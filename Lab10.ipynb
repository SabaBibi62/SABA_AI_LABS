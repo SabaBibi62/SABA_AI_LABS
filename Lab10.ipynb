{
  "nbformat": 4,
  "nbformat_minor": 0,
  "metadata": {
    "colab": {
      "provenance": [],
      "authorship_tag": "ABX9TyOY7yw0PZuyA27foENfr6P8",
      "include_colab_link": true
    },
    "kernelspec": {
      "name": "python3",
      "display_name": "Python 3"
    },
    "language_info": {
      "name": "python"
    }
  },
  "cells": [
    {
      "cell_type": "markdown",
      "metadata": {
        "id": "view-in-github",
        "colab_type": "text"
      },
      "source": [
        "<a href=\"https://colab.research.google.com/github/SabaBibi62/SABA_AI_LABS/blob/main/Lab10.ipynb\" target=\"_parent\"><img src=\"https://colab.research.google.com/assets/colab-badge.svg\" alt=\"Open In Colab\"/></a>"
      ]
    },
    {
      "cell_type": "code",
      "execution_count": null,
      "metadata": {
        "id": "cp4SbnsSsVXC"
      },
      "outputs": [],
      "source": [
        "import random\n",
        "import math\n",
        "\n",
        "class GA:\n",
        "   def __init__(self, individualSize, populationSize):\n",
        "      self.population=dict()\n",
        "      self. individualSize = individualSize \n",
        "      self.populationSize = populationSize \n",
        "      self.totalFitness=0\n",
        "      i=0\n",
        "      while i < populationSize:\n",
        "         listOfBits = [0] * individualSize\n",
        "         listOfLocations = list(range(0,individualSize)) \n",
        "         numberOfOnes = random.randint(0, individualSize-1) \n",
        "         onesLocations = random.sample(listOfLocations,numberOfOnes) \n",
        "         for j in onesLocations:\n",
        "            listOfBits[j]=1\n",
        "            self.population[i]=[listOfBits, numberOfOnes] \n",
        "            self.totalFitness = self.totalFitness + numberOfOnes \n",
        "            i=i+1\n",
        "            \n",
        "   def updatePopulationFitness(self):\n",
        "      self.totalFitness = 0\n",
        "      for individual in self.population: \n",
        "         individualFitness=sum(self.population[individual][0])\n",
        "         self.population[individual][1] = individualFitness \n",
        "         self.totalFitness = self.totalFitness + individualFitness\n",
        "         \n",
        "   def selectParents(self):\n",
        "        rouletteWheel=[]\n",
        "        wheelSize=self.populationSize*5 \n",
        "        h_n=[]\n",
        "        for individual in self.population:\n",
        "            h_n.append(self.population[individual][1])\n",
        "        j=0\n",
        "        for individual in self.population:\n",
        "            individualLength=round(wheelSize*(h_n[j]/sum(h_n)))\n",
        "            j=j+1\n",
        "            if individualLength>0:\n",
        "                i=0\n",
        "                while i < individualLength:\n",
        "                    rouletteWheel.append(individual)\n",
        "                    i=i+1\n",
        "        random.shuffle(rouletteWheel)\n",
        "        parentIndices=[]\n",
        "        i=0\n",
        "        while i< self.populationSize: \n",
        "            parentIndices.append(rouletteWheel[\n",
        "                random.randint(0, len(rouletteWheel)-1)])\n",
        "            i=i+1 \n",
        "        newGeneration=dict()\n",
        "        i=0\n",
        "        while i < self.populationSize:\n",
        "            newGeneration[i]=self.population[parentIndices[i]].copy()\n",
        "            i=i+1\n",
        "        del self.population\n",
        "        self.population = newGeneration.copy() \n",
        "        self.updatePopulationFitness()\n",
        "        \n",
        "\n",
        "\n",
        "  #\n",
        "   def generateChildren(self, crossoverProbability):\n",
        "      numberOfPairs = round(crossoverProbability*self.populationSize/2) \n",
        "      individualIndices = list(range(0,self.populationSize)) \n",
        "      random.shuffle(individualIndices)\n",
        "      i=0\n",
        "      j=0\n",
        "      while i"
      ]
    }
  ]
}