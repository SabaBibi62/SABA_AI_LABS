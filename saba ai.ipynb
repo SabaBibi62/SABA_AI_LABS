{
  "nbformat": 4,
  "nbformat_minor": 0,
  "metadata": {
    "colab": {
      "provenance": [],
      "collapsed_sections": []
    },
    "kernelspec": {
      "name": "python3",
      "display_name": "Python 3"
    },
    "language_info": {
      "name": "python"
    }
  },
  "cells": [
    {
      "cell_type": "code",
      "execution_count": 1,
      "metadata": {
        "colab": {
          "base_uri": "https://localhost:8080/"
        },
        "id": "8ojzfIaf-_Qi",
        "outputId": "a7b65bdb-dc19-416a-f87a-5824dfa1ea4f"
      },
      "outputs": [
        {
          "output_type": "stream",
          "name": "stdout",
          "text": [
            "Enter a Number : 45\n",
            "The Number  is Odd\n"
          ]
        }
      ],
      "source": [
        "\n",
        "num  = int(input(\"Enter a Number : \"))\n",
        "\n",
        "if (num % 2 == 0):\n",
        "  print(\"The Number  is Even\")\n",
        "else:\n",
        "  print(\"The Number  is Odd\")"
      ]
    },
    {
      "cell_type": "code",
      "source": [
        "sum = 0\n",
        "\n",
        "num = int(input(\"Enter Number : \"))\n",
        "\n",
        "while (num != 0):\n",
        "  sum= sum+ num\n",
        "  num = int(input(\"Enter Number : \"))\n",
        "\n",
        "print(\" Sum is : \",sum)"
      ],
      "metadata": {
        "colab": {
          "base_uri": "https://localhost:8080/"
        },
        "id": "55WN4hW6_bhr",
        "outputId": "31670c26-b20d-4ade-aa5e-4002e3a480b8"
      },
      "execution_count": 3,
      "outputs": [
        {
          "output_type": "stream",
          "name": "stdout",
          "text": [
            "Enter Number : 2\n",
            "Enter Number : 3\n",
            "Enter Number : 0\n",
            " Sum is :  5\n"
          ]
        }
      ]
    },
    {
      "cell_type": "code",
      "source": [
        "isprime= True\n",
        "i=2\n",
        "\n",
        "number = int(input(\"Enter Number : \"))\n",
        "while (i < number):\n",
        "  reminder = number % i\n",
        "  if (reminder == 0):\n",
        "    isprime= False\n",
        "  else:\n",
        "    i=i+1\n",
        "\n",
        "if (isprime):\n",
        "  print(\" Prime Number\")\n",
        "else:\n",
        "  print(\" NOT a Prime Number\")"
      ],
      "metadata": {
        "colab": {
          "base_uri": "https://localhost:8080/"
        },
        "id": "OidqwEKi_400",
        "outputId": "2e1bf0f0-1c39-41fc-d1a2-e069000c6565"
      },
      "execution_count": 10,
      "outputs": [
        {
          "output_type": "stream",
          "name": "stdout",
          "text": [
            "Enter Number : 2\n",
            " Prime Number\n"
          ]
        }
      ]
    },
    {
      "cell_type": "code",
      "source": [
        "i=0\n",
        "sum =0\n",
        "\n",
        "while(i <= 4):\n",
        "  number = int(input(\"Enter Number : \"))\n",
        "  sum = sum+number\n",
        "  i=i+1\n",
        "\n",
        "print(sum)"
      ],
      "metadata": {
        "colab": {
          "base_uri": "https://localhost:8080/"
        },
        "id": "h56SnOGSA1sN",
        "outputId": "3c9071ee-9aad-4fd6-da2b-dbc836f0770b"
      },
      "execution_count": 11,
      "outputs": [
        {
          "output_type": "stream",
          "name": "stdout",
          "text": [
            "Enter Number : 4\n",
            "Enter Number : 3\n",
            "Enter Number : 5\n",
            "Enter Number : 2\n",
            "Enter Number : 5\n",
            "19\n"
          ]
        }
      ]
    },
    {
      "cell_type": "code",
      "source": [
        "sum =0\n",
        "i =1\n",
        "\n",
        "while (i <=10):\n",
        "  sum = sum+i\n",
        "  i= i+1\n",
        "\n",
        "print(sum)"
      ],
      "metadata": {
        "colab": {
          "base_uri": "https://localhost:8080/"
        },
        "id": "1OAARSGHA_Kx",
        "outputId": "f0ca8d4c-642c-4888-893b-88c1e2e89ef3"
      },
      "execution_count": 12,
      "outputs": [
        {
          "output_type": "stream",
          "name": "stdout",
          "text": [
            "55\n"
          ]
        }
      ]
    },
    {
      "cell_type": "code",
      "source": [
        "name= input(\"Whats Your Name? \")\n",
        "age = int(input(\"Whats Your Age? \"))\n",
        "city = input(\"In which city do you Live? \")\n",
        "\n",
        "print(\"Welcome \"+name+ \"!\")\n",
        "print(\"Your age is : \",age)\n",
        "print(\"You live in \"+city+\" City!\")"
      ],
      "metadata": {
        "colab": {
          "base_uri": "https://localhost:8080/"
        },
        "id": "-kB92jDZBHPD",
        "outputId": "25cc09df-7ffe-4245-a084-a02b249b7f64"
      },
      "execution_count": 13,
      "outputs": [
        {
          "output_type": "stream",
          "name": "stdout",
          "text": [
            "Whats Your Name? Saba bibi\n",
            "Whats Your Age? 20\n",
            "In which city do you Live? hazro\n",
            "Welcome Saba bibi!\n",
            "Your age is :  20\n",
            "You live in hazro City!\n"
          ]
        }
      ]
    },
    {
      "cell_type": "code",
      "source": [],
      "metadata": {
        "id": "Z5egYblwAL5h"
      },
      "execution_count": null,
      "outputs": []
    }
  ]
}